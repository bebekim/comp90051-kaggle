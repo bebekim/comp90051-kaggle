{
 "cells": [
  {
   "cell_type": "markdown",
   "metadata": {},
   "source": [
    "# COMP90051 Assignment 1"
   ]
  },
  {
   "cell_type": "markdown",
   "metadata": {},
   "source": [
    "## Import Libraries"
   ]
  },
  {
   "cell_type": "code",
   "execution_count": 1,
   "metadata": {},
   "outputs": [],
   "source": [
    "import pandas as pd\n",
    "import numpy as np\n",
    "from pathlib import Path\n",
    "from itertools import repeat\n",
    "import networkx as nx\n",
    "import matplotlib.pyplot as plt\n",
    "import random"
   ]
  },
  {
   "cell_type": "markdown",
   "metadata": {},
   "source": [
    "## Import and wrangle data"
   ]
  },
  {
   "cell_type": "code",
   "execution_count": 2,
   "metadata": {},
   "outputs": [],
   "source": [
    "input_path = Path(\"../input/train.txt\")\n",
    "output_path = Path(\"../input/train.csv\")"
   ]
  },
  {
   "cell_type": "code",
   "execution_count": 3,
   "metadata": {},
   "outputs": [],
   "source": [
    "file_list = []\n",
    "# read txt file as a list of lines\n",
    "with open(input_path) as f:\n",
    "    for line in f:\n",
    "        linestr_list = line.rstrip('\\n').split(\"\\t\")\n",
    "        linenum_list = list(map(int, linestr_list))\n",
    "        file_list.append(linenum_list)\n",
    "\n",
    "        \n"
   ]
  },
  {
   "cell_type": "code",
   "execution_count": 4,
   "metadata": {},
   "outputs": [],
   "source": [
    "f_dict = {}\n",
    "for list in file_list:\n",
    "    k = list[0]\n",
    "    f_dict[k] = list[1:]"
   ]
  },
  {
   "cell_type": "code",
   "execution_count": 14,
   "metadata": {},
   "outputs": [
    {
     "ename": "TypeError",
     "evalue": "'list' object is not callable",
     "output_type": "error",
     "traceback": [
      "\u001b[0;31m---------------------------------------------------------------------------\u001b[0m",
      "\u001b[0;31mTypeError\u001b[0m                                 Traceback (most recent call last)",
      "\u001b[0;32m<ipython-input-14-6b51d14ea454>\u001b[0m in \u001b[0;36m<module>\u001b[0;34m\u001b[0m\n\u001b[1;32m      4\u001b[0m     \u001b[0mx\u001b[0m \u001b[0;34m=\u001b[0m \u001b[0mrepeat\u001b[0m\u001b[0;34m(\u001b[0m\u001b[0ml\u001b[0m\u001b[0;34m[\u001b[0m\u001b[0;36m0\u001b[0m\u001b[0;34m]\u001b[0m\u001b[0;34m,\u001b[0m \u001b[0mlen\u001b[0m\u001b[0;34m(\u001b[0m\u001b[0ml\u001b[0m\u001b[0;34m)\u001b[0m\u001b[0;34m-\u001b[0m\u001b[0;36m1\u001b[0m\u001b[0;34m)\u001b[0m\u001b[0;34m\u001b[0m\u001b[0;34m\u001b[0m\u001b[0m\n\u001b[1;32m      5\u001b[0m     \u001b[0my\u001b[0m \u001b[0;34m=\u001b[0m \u001b[0ml\u001b[0m\u001b[0;34m[\u001b[0m\u001b[0;36m1\u001b[0m\u001b[0;34m:\u001b[0m\u001b[0;34m]\u001b[0m\u001b[0;34m\u001b[0m\u001b[0;34m\u001b[0m\u001b[0m\n\u001b[0;32m----> 6\u001b[0;31m     \u001b[0mz\u001b[0m \u001b[0;34m=\u001b[0m \u001b[0mlist\u001b[0m\u001b[0;34m(\u001b[0m\u001b[0mzip\u001b[0m\u001b[0;34m(\u001b[0m\u001b[0mx\u001b[0m\u001b[0;34m,\u001b[0m \u001b[0my\u001b[0m\u001b[0;34m)\u001b[0m\u001b[0;34m)\u001b[0m\u001b[0;34m\u001b[0m\u001b[0;34m\u001b[0m\u001b[0m\n\u001b[0m\u001b[1;32m      7\u001b[0m     \u001b[0;32mfor\u001b[0m \u001b[0mitem\u001b[0m \u001b[0;32min\u001b[0m \u001b[0mz\u001b[0m\u001b[0;34m:\u001b[0m\u001b[0;34m\u001b[0m\u001b[0;34m\u001b[0m\u001b[0m\n\u001b[1;32m      8\u001b[0m         \u001b[0mf\u001b[0m\u001b[0;34m.\u001b[0m\u001b[0mappend\u001b[0m\u001b[0;34m(\u001b[0m\u001b[0mitem\u001b[0m\u001b[0;34m)\u001b[0m\u001b[0;34m\u001b[0m\u001b[0;34m\u001b[0m\u001b[0m\n",
      "\u001b[0;31mTypeError\u001b[0m: 'list' object is not callable"
     ]
    }
   ],
   "source": [
    "f = []\n",
    "# convert list of lines to a list of tuples\n",
    "for l in file_list:\n",
    "    x = repeat(l[0], len(l)-1)\n",
    "    y = l[1:]\n",
    "    z = list(zip(x, y))\n",
    "    for item in z:\n",
    "        f.append(item)"
   ]
  },
  {
   "cell_type": "code",
   "execution_count": 15,
   "metadata": {},
   "outputs": [
    {
     "ename": "KeyError",
     "evalue": "955840",
     "output_type": "error",
     "traceback": [
      "\u001b[0;31m---------------------------------------------------------------------------\u001b[0m",
      "\u001b[0;31mKeyError\u001b[0m                                  Traceback (most recent call last)",
      "\u001b[0;32m<ipython-input-15-b3f1bdfda1f7>\u001b[0m in \u001b[0;36m<module>\u001b[0;34m\u001b[0m\n\u001b[1;32m      2\u001b[0m \u001b[0;32mfor\u001b[0m \u001b[0mu\u001b[0m\u001b[0;34m,\u001b[0m \u001b[0mv\u001b[0m \u001b[0;32min\u001b[0m \u001b[0mf\u001b[0m\u001b[0;34m:\u001b[0m\u001b[0;34m\u001b[0m\u001b[0;34m\u001b[0m\u001b[0m\n\u001b[1;32m      3\u001b[0m     \u001b[0mset_u\u001b[0m \u001b[0;34m=\u001b[0m \u001b[0mset\u001b[0m\u001b[0;34m(\u001b[0m\u001b[0mf_dict\u001b[0m\u001b[0;34m[\u001b[0m\u001b[0mu\u001b[0m\u001b[0;34m]\u001b[0m\u001b[0;34m)\u001b[0m\u001b[0;34m\u001b[0m\u001b[0;34m\u001b[0m\u001b[0m\n\u001b[0;32m----> 4\u001b[0;31m     \u001b[0mset_v\u001b[0m \u001b[0;34m=\u001b[0m \u001b[0mset\u001b[0m\u001b[0;34m(\u001b[0m\u001b[0mf_dict\u001b[0m\u001b[0;34m[\u001b[0m\u001b[0mv\u001b[0m\u001b[0;34m]\u001b[0m\u001b[0;34m)\u001b[0m\u001b[0;34m\u001b[0m\u001b[0;34m\u001b[0m\u001b[0m\n\u001b[0m\u001b[1;32m      5\u001b[0m     \u001b[0mcommon_set\u001b[0m \u001b[0;34m=\u001b[0m \u001b[0mset_u\u001b[0m \u001b[0;32mand\u001b[0m \u001b[0mset_v\u001b[0m\u001b[0;34m\u001b[0m\u001b[0;34m\u001b[0m\u001b[0m\n\u001b[1;32m      6\u001b[0m     \u001b[0munion_set\u001b[0m \u001b[0;34m=\u001b[0m \u001b[0mset_u\u001b[0m \u001b[0;32mor\u001b[0m \u001b[0mset_v\u001b[0m\u001b[0;34m\u001b[0m\u001b[0;34m\u001b[0m\u001b[0m\n",
      "\u001b[0;31mKeyError\u001b[0m: 955840"
     ]
    }
   ],
   "source": [
    "edge_features = []\n",
    "for u, v in f:\n",
    "    set_u = set(f_dict.get(u))\n",
    "    set_v = set(f_dict.get(v))\n",
    "    common_set = set_u and set_v\n",
    "    union_set = set_u or set_v\n",
    "    common_cnt = len(common_set)\n",
    "    union_cnt = len(union_set)\n",
    "    jacard_similarity = common_cnt/union_cnt\n",
    "    edge_row = {u, v, common_cnt, union_cnt, jacard_similarity}\n",
    "    edge_features.append(edge_row)\n",
    "    "
   ]
  },
  {
   "cell_type": "markdown",
   "metadata": {},
   "source": [
    "## Build sample graph"
   ]
  },
  {
   "cell_type": "code",
   "execution_count": null,
   "metadata": {},
   "outputs": [],
   "source": [
    "random.seed(42)\n",
    "len_f = len(f)\n",
    "sample_f = random.sample(f, round(len(f) * .05))\n",
    "sample_g = nx.Graph(sample_f)"
   ]
  },
  {
   "cell_type": "code",
   "execution_count": 47,
   "metadata": {},
   "outputs": [],
   "source": [
    "degree_freq = np.array(nx.degree_histogram(sample_g)).astype(int)\n",
    "degree_freq[::-1].sort()\n",
    "degree_seq = list(sample_g.degree())\n"
   ]
  },
  {
   "cell_type": "code",
   "execution_count": 64,
   "metadata": {},
   "outputs": [
    {
     "name": "stdout",
     "output_type": "stream",
     "text": [
      "Number of nodes : 667802\n",
      "Number of nodes : 1198686\n",
      "Maximum degree : 38606\n",
      "Minimum degree : 1\n",
      "Average degree : 3.5899443248148404\n",
      "Median degree : 1.0\n"
     ]
    }
   ],
   "source": [
    "\n",
    "\n",
    "# Get the list of the degrees\n",
    "num_nodes = sample_g.number_of_nodes()\n",
    "num_edges = sample_g.number_of_edges()\n",
    "\n",
    "mean_degree = np.mean(np.array(degree_seq)[:, 1])\n",
    "median_degree = np.median(np.array(degree_seq)[:, 1])\n",
    "\n",
    "max_degree = max(np.array(degree_seq)[:,1])\n",
    "min_degree = np.min(np.array(degree_seq)[:,1])\n",
    "\n",
    "print(f'Number of nodes : {num_nodes}')\n",
    "print(f'Number of nodes : {num_edges}')\n",
    "\n",
    "print(f'Maximum degree : {max_degree}')\n",
    "print(f'Minimum degree : {min_degree}')\n",
    "\n",
    "print(f'Average degree : {mean_degree}')\n",
    "print(f'Median degree : {median_degree}')\n",
    "\n",
    "\n",
    "\n",
    "\n"
   ]
  },
  {
   "cell_type": "code",
   "execution_count": 65,
   "metadata": {},
   "outputs": [],
   "source": [
    "g = nx.Graph(f)"
   ]
  },
  {
   "cell_type": "code",
   "execution_count": 66,
   "metadata": {},
   "outputs": [],
   "source": [
    "degree_seql = list(g.degree())"
   ]
  },
  {
   "cell_type": "code",
   "execution_count": 67,
   "metadata": {},
   "outputs": [
    {
     "name": "stdout",
     "output_type": "stream",
     "text": [
      "Number of nodes : 4867136\n",
      "Number of nodes : 23416061\n",
      "Maximum degree : 38606\n",
      "Minimum degree : 1\n",
      "Average degree : 3.5899443248148404\n",
      "Median degree : 1.0\n"
     ]
    }
   ],
   "source": [
    "# Get the list of the degrees\n",
    "num_nodes = g.number_of_nodes()\n",
    "num_edges = g.number_of_edges()\n",
    "\n",
    "mean_degree = np.mean(np.array(degree_seq)[:, 1])\n",
    "median_degree = np.median(np.array(degree_seq)[:, 1])\n",
    "\n",
    "max_degree = max(np.array(degree_seq)[:,1])\n",
    "min_degree = np.min(np.array(degree_seq)[:,1])\n",
    "\n",
    "print(f'Number of nodes : {num_nodes}')\n",
    "print(f'Number of nodes : {num_edges}')\n",
    "\n",
    "print(f'Maximum degree : {max_degree}')\n",
    "print(f'Minimum degree : {min_degree}')\n",
    "\n",
    "print(f'Average degree : {mean_degree}')\n",
    "print(f'Median degree : {median_degree}')\n",
    "\n"
   ]
  },
  {
   "cell_type": "code",
   "execution_count": null,
   "metadata": {},
   "outputs": [],
   "source": [
    "pred_jaccard_sample = list(nx.jaccard_coefficient(sample_g))"
   ]
  },
  {
   "cell_type": "code",
   "execution_count": null,
   "metadata": {},
   "outputs": [],
   "source": []
  }
 ],
 "metadata": {
  "kernelspec": {
   "display_name": "comp90051-env",
   "language": "python",
   "name": "comp90051-env"
  },
  "language_info": {
   "codemirror_mode": {
    "name": "ipython",
    "version": 3
   },
   "file_extension": ".py",
   "mimetype": "text/x-python",
   "name": "python",
   "nbconvert_exporter": "python",
   "pygments_lexer": "ipython3",
   "version": "3.8.5"
  }
 },
 "nbformat": 4,
 "nbformat_minor": 4
}
