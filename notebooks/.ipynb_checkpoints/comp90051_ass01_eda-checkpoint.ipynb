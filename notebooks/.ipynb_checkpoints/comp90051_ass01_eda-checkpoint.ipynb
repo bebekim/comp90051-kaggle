{
 "cells": [
  {
   "cell_type": "markdown",
   "metadata": {},
   "source": [
    "# COMP90051 Assignment 1"
   ]
  },
  {
   "cell_type": "markdown",
   "metadata": {},
   "source": [
    "## Import Libraries"
   ]
  },
  {
   "cell_type": "code",
   "execution_count": 2,
   "metadata": {},
   "outputs": [],
   "source": [
    "import pandas as pd\n",
    "import numpy as np\n",
    "from pathlib import Path\n",
    "from itertools import repeat\n",
    "import networkx as nx\n",
    "import matplotlib.pyplot as plt\n",
    "import random"
   ]
  },
  {
   "cell_type": "markdown",
   "metadata": {},
   "source": [
    "## Import and wrangle data"
   ]
  },
  {
   "cell_type": "code",
   "execution_count": 3,
   "metadata": {},
   "outputs": [],
   "source": [
    "input_path = Path(\"../input/train.txt\")\n",
    "output_path = Path(\"../input/train.csv\")"
   ]
  },
  {
   "cell_type": "code",
   "execution_count": 4,
   "metadata": {},
   "outputs": [],
   "source": [
    "file_list = []\n",
    "# read txt file as a list of lines\n",
    "with open(input_path) as f:\n",
    "    for line in f:\n",
    "        linestr_list = line.rstrip('\\n').split(\"\\t\")\n",
    "        linenum_list = list(map(int, linestr_list))\n",
    "        file_list.append(linenum_list)\n",
    "\n",
    "        \n"
   ]
  },
  {
   "cell_type": "code",
   "execution_count": 5,
   "metadata": {},
   "outputs": [],
   "source": [
    "f_dict = {}\n",
    "for list in file_list:\n",
    "    k = list[0]\n",
    "    f_dict[k] = list[1:]"
   ]
  },
  {
   "cell_type": "code",
   "execution_count": 8,
   "metadata": {},
   "outputs": [],
   "source": [
    "sample_file_list = file_list[:100]\n",
    "list_1 = sample_file_list[0]\n",
    "list_2 = sample_file_list[1]\n",
    "list_3 = sample_file_list[2]"
   ]
  },
  {
   "cell_type": "code",
   "execution_count": 17,
   "metadata": {},
   "outputs": [],
   "source": [
    " first_1 = list_1[0]\n",
    "second_1 = list_1[1:]\n",
    "first_2 = list_2[0]\n",
    "second_2 = list_2[1:]"
   ]
  },
  {
   "cell_type": "code",
   "execution_count": 20,
   "metadata": {},
   "outputs": [
    {
     "name": "stdout",
     "output_type": "stream",
     "text": [
      "143\n",
      "21\n",
      "{4272512, 1319809, 2391178, 3624714, 4523797, 3414168, 268451, 1888423, 2095783, 65840, 4027460, 1150919, 1241159, 2849738, 1006924, 2486610, 2851163, 3361377, 4321895, 2000752, 3676150}\n",
      "21\n"
     ]
    }
   ],
   "source": [
    "second_1_set = set(second_1)\n",
    "second_2_set = set(second_2)\n",
    "common = second_1_set and second_2_set\n",
    "print(len(second_1))\n",
    "print(len(second_2))\n",
    "\n",
    "print(common)\n",
    "print(len(common))"
   ]
  },
  {
   "cell_type": "code",
   "execution_count": 16,
   "metadata": {},
   "outputs": [
    {
     "data": {
      "text/plain": [
       "{3043,\n",
       " 69174,\n",
       " 94742,\n",
       " 141067,\n",
       " 141083,\n",
       " 151344,\n",
       " 193736,\n",
       " 261881,\n",
       " 267263,\n",
       " 289918,\n",
       " 299865,\n",
       " 333573,\n",
       " 343833,\n",
       " 381025,\n",
       " 400117,\n",
       " 415955,\n",
       " 506428,\n",
       " 557514,\n",
       " 581535,\n",
       " 611426,\n",
       " 641925,\n",
       " 661185,\n",
       " 695775,\n",
       " 738638,\n",
       " 746711,\n",
       " 851113,\n",
       " 892512,\n",
       " 952976,\n",
       " 977117,\n",
       " 1003239,\n",
       " 1005927,\n",
       " 1070876,\n",
       " 1116703,\n",
       " 1124524,\n",
       " 1157186,\n",
       " 1169783,\n",
       " 1199298,\n",
       " 1209171,\n",
       " 1274046,\n",
       " 1312847,\n",
       " 1313296,\n",
       " 1327933,\n",
       " 1392121,\n",
       " 1411138,\n",
       " 1436216,\n",
       " 1436562,\n",
       " 1462439,\n",
       " 1521082,\n",
       " 1537559,\n",
       " 1594907,\n",
       " 1655093,\n",
       " 1719625,\n",
       " 1726071,\n",
       " 1737397,\n",
       " 1818911,\n",
       " 1824878,\n",
       " 1840280,\n",
       " 1853195,\n",
       " 1892251,\n",
       " 1912140,\n",
       " 1927780,\n",
       " 1970076,\n",
       " 2152173,\n",
       " 2163471,\n",
       " 2173241,\n",
       " 2183328,\n",
       " 2299939,\n",
       " 2329535,\n",
       " 2335027,\n",
       " 2345899,\n",
       " 2404108,\n",
       " 2451654,\n",
       " 2463912,\n",
       " 2464827,\n",
       " 2492020,\n",
       " 2519640,\n",
       " 2558493,\n",
       " 2635670,\n",
       " 2672578,\n",
       " 2673351,\n",
       " 2703564,\n",
       " 2737722,\n",
       " 2757277,\n",
       " 2763417,\n",
       " 2770509,\n",
       " 2800259,\n",
       " 2862019,\n",
       " 2881471,\n",
       " 2989624,\n",
       " 3011333,\n",
       " 3056533,\n",
       " 3091331,\n",
       " 3118623,\n",
       " 3133671,\n",
       " 3142255,\n",
       " 3201437,\n",
       " 3206499,\n",
       " 3237295,\n",
       " 3294915,\n",
       " 3314815,\n",
       " 3316576,\n",
       " 3349332,\n",
       " 3367669,\n",
       " 3370407,\n",
       " 3386592,\n",
       " 3521384,\n",
       " 3532986,\n",
       " 3541155,\n",
       " 3562621,\n",
       " 3575966,\n",
       " 3586135,\n",
       " 3662772,\n",
       " 3670190,\n",
       " 3702208,\n",
       " 3704614,\n",
       " 3712732,\n",
       " 3766535,\n",
       " 3767319,\n",
       " 3820661,\n",
       " 3883660,\n",
       " 3886121,\n",
       " 3906434,\n",
       " 3912913,\n",
       " 3980998,\n",
       " 3994838,\n",
       " 4008078,\n",
       " 4075641,\n",
       " 4131275,\n",
       " 4174165,\n",
       " 4208653,\n",
       " 4230834,\n",
       " 4241326,\n",
       " 4267183,\n",
       " 4286284,\n",
       " 4313335,\n",
       " 4316209,\n",
       " 4361289,\n",
       " 4366854,\n",
       " 4467395,\n",
       " 4575690,\n",
       " 4582129,\n",
       " 4762204,\n",
       " 4818002}"
      ]
     },
     "execution_count": 16,
     "metadata": {},
     "output_type": "execute_result"
    }
   ],
   "source": [
    "second_1_set"
   ]
  },
  {
   "cell_type": "code",
   "execution_count": 8,
   "metadata": {},
   "outputs": [],
   "source": [
    "f = []\n",
    "# convert list of lines to a list of tuples\n",
    "for l in file_list:\n",
    "    x = repeat(l[0], len(l)-1)\n",
    "    y = l[1:]\n",
    "    z = list(zip(x, y))\n",
    "    for item in z:\n",
    "        f.append(item)"
   ]
  },
  {
   "cell_type": "code",
   "execution_count": 15,
   "metadata": {},
   "outputs": [
    {
     "ename": "KeyError",
     "evalue": "955840",
     "output_type": "error",
     "traceback": [
      "\u001b[0;31m---------------------------------------------------------------------------\u001b[0m",
      "\u001b[0;31mKeyError\u001b[0m                                  Traceback (most recent call last)",
      "\u001b[0;32m<ipython-input-15-b3f1bdfda1f7>\u001b[0m in \u001b[0;36m<module>\u001b[0;34m\u001b[0m\n\u001b[1;32m      2\u001b[0m \u001b[0;32mfor\u001b[0m \u001b[0mu\u001b[0m\u001b[0;34m,\u001b[0m \u001b[0mv\u001b[0m \u001b[0;32min\u001b[0m \u001b[0mf\u001b[0m\u001b[0;34m:\u001b[0m\u001b[0;34m\u001b[0m\u001b[0;34m\u001b[0m\u001b[0m\n\u001b[1;32m      3\u001b[0m     \u001b[0mset_u\u001b[0m \u001b[0;34m=\u001b[0m \u001b[0mset\u001b[0m\u001b[0;34m(\u001b[0m\u001b[0mf_dict\u001b[0m\u001b[0;34m[\u001b[0m\u001b[0mu\u001b[0m\u001b[0;34m]\u001b[0m\u001b[0;34m)\u001b[0m\u001b[0;34m\u001b[0m\u001b[0;34m\u001b[0m\u001b[0m\n\u001b[0;32m----> 4\u001b[0;31m     \u001b[0mset_v\u001b[0m \u001b[0;34m=\u001b[0m \u001b[0mset\u001b[0m\u001b[0;34m(\u001b[0m\u001b[0mf_dict\u001b[0m\u001b[0;34m[\u001b[0m\u001b[0mv\u001b[0m\u001b[0;34m]\u001b[0m\u001b[0;34m)\u001b[0m\u001b[0;34m\u001b[0m\u001b[0;34m\u001b[0m\u001b[0m\n\u001b[0m\u001b[1;32m      5\u001b[0m     \u001b[0mcommon_set\u001b[0m \u001b[0;34m=\u001b[0m \u001b[0mset_u\u001b[0m \u001b[0;32mand\u001b[0m \u001b[0mset_v\u001b[0m\u001b[0;34m\u001b[0m\u001b[0;34m\u001b[0m\u001b[0m\n\u001b[1;32m      6\u001b[0m     \u001b[0munion_set\u001b[0m \u001b[0;34m=\u001b[0m \u001b[0mset_u\u001b[0m \u001b[0;32mor\u001b[0m \u001b[0mset_v\u001b[0m\u001b[0;34m\u001b[0m\u001b[0;34m\u001b[0m\u001b[0m\n",
      "\u001b[0;31mKeyError\u001b[0m: 955840"
     ]
    }
   ],
   "source": [
    "edge_features = []\n",
    "for u, v in f:\n",
    "    set_u = set(f_dict.get(u))\n",
    "    set_v = set(f_dict.get(v))\n",
    "    common_set = set_u and set_v\n",
    "    union_set = set_u or set_v\n",
    "    common_cnt = len(common_set)\n",
    "    union_cnt = len(union_set)\n",
    "    jacard_similarity = common_cnt/union_cnt\n",
    "    edge_row = {u, v, common_cnt, union_cnt, jacard_similarity}\n",
    "    edge_features.append(edge_row)\n",
    "    "
   ]
  },
  {
   "cell_type": "markdown",
   "metadata": {},
   "source": [
    "## Build sample graph"
   ]
  },
  {
   "cell_type": "code",
   "execution_count": null,
   "metadata": {},
   "outputs": [],
   "source": [
    "random.seed(42)\n",
    "len_f = len(f)\n",
    "sample_f = random.sample(f, round(len(f) * .05))\n",
    "sample_g = nx.Graph(sample_f)"
   ]
  },
  {
   "cell_type": "code",
   "execution_count": 47,
   "metadata": {},
   "outputs": [],
   "source": [
    "degree_freq = np.array(nx.degree_histogram(sample_g)).astype(int)\n",
    "degree_freq[::-1].sort()\n",
    "degree_seq = list(sample_g.degree())\n"
   ]
  },
  {
   "cell_type": "code",
   "execution_count": 64,
   "metadata": {},
   "outputs": [
    {
     "name": "stdout",
     "output_type": "stream",
     "text": [
      "Number of nodes : 667802\n",
      "Number of nodes : 1198686\n",
      "Maximum degree : 38606\n",
      "Minimum degree : 1\n",
      "Average degree : 3.5899443248148404\n",
      "Median degree : 1.0\n"
     ]
    }
   ],
   "source": [
    "\n",
    "\n",
    "# Get the list of the degrees\n",
    "num_nodes = sample_g.number_of_nodes()\n",
    "num_edges = sample_g.number_of_edges()\n",
    "\n",
    "mean_degree = np.mean(np.array(degree_seq)[:, 1])\n",
    "median_degree = np.median(np.array(degree_seq)[:, 1])\n",
    "\n",
    "max_degree = max(np.array(degree_seq)[:,1])\n",
    "min_degree = np.min(np.array(degree_seq)[:,1])\n",
    "\n",
    "print(f'Number of nodes : {num_nodes}')\n",
    "print(f'Number of nodes : {num_edges}')\n",
    "\n",
    "print(f'Maximum degree : {max_degree}')\n",
    "print(f'Minimum degree : {min_degree}')\n",
    "\n",
    "print(f'Average degree : {mean_degree}')\n",
    "print(f'Median degree : {median_degree}')\n",
    "\n",
    "\n",
    "\n",
    "\n"
   ]
  },
  {
   "cell_type": "code",
   "execution_count": 65,
   "metadata": {},
   "outputs": [],
   "source": [
    "g = nx.Graph(f)"
   ]
  },
  {
   "cell_type": "code",
   "execution_count": 66,
   "metadata": {},
   "outputs": [],
   "source": [
    "degree_seql = list(g.degree())"
   ]
  },
  {
   "cell_type": "code",
   "execution_count": 67,
   "metadata": {},
   "outputs": [
    {
     "name": "stdout",
     "output_type": "stream",
     "text": [
      "Number of nodes : 4867136\n",
      "Number of nodes : 23416061\n",
      "Maximum degree : 38606\n",
      "Minimum degree : 1\n",
      "Average degree : 3.5899443248148404\n",
      "Median degree : 1.0\n"
     ]
    }
   ],
   "source": [
    "# Get the list of the degrees\n",
    "num_nodes = g.number_of_nodes()\n",
    "num_edges = g.number_of_edges()\n",
    "\n",
    "mean_degree = np.mean(np.array(degree_seq)[:, 1])\n",
    "median_degree = np.median(np.array(degree_seq)[:, 1])\n",
    "\n",
    "max_degree = max(np.array(degree_seq)[:,1])\n",
    "min_degree = np.min(np.array(degree_seq)[:,1])\n",
    "\n",
    "print(f'Number of nodes : {num_nodes}')\n",
    "print(f'Number of nodes : {num_edges}')\n",
    "\n",
    "print(f'Maximum degree : {max_degree}')\n",
    "print(f'Minimum degree : {min_degree}')\n",
    "\n",
    "print(f'Average degree : {mean_degree}')\n",
    "print(f'Median degree : {median_degree}')\n",
    "\n"
   ]
  },
  {
   "cell_type": "code",
   "execution_count": null,
   "metadata": {},
   "outputs": [],
   "source": [
    "pred_jaccard_sample = list(nx.jaccard_coefficient(sample_g))"
   ]
  },
  {
   "cell_type": "code",
   "execution_count": null,
   "metadata": {},
   "outputs": [],
   "source": []
  }
 ],
 "metadata": {
  "kernelspec": {
   "display_name": "comp90051-env",
   "language": "python",
   "name": "comp90051-env"
  },
  "language_info": {
   "codemirror_mode": {
    "name": "ipython",
    "version": 3
   },
   "file_extension": ".py",
   "mimetype": "text/x-python",
   "name": "python",
   "nbconvert_exporter": "python",
   "pygments_lexer": "ipython3",
   "version": "3.8.5"
  }
 },
 "nbformat": 4,
 "nbformat_minor": 4
}
