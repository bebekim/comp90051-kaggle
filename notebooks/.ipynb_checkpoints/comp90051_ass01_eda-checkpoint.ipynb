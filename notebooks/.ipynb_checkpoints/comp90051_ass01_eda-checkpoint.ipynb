{
 "cells": [
  {
   "cell_type": "code",
   "execution_count": 24,
   "metadata": {},
   "outputs": [],
   "source": [
    "import pandas as pd\n",
    "import numpy as np\n",
    "from pathlib import Path\n",
    "from itertools import cycle"
   ]
  },
  {
   "cell_type": "code",
   "execution_count": 13,
   "metadata": {},
   "outputs": [],
   "source": [
    "input_path = Path(\"../input/train.txt\")\n",
    "output_path = Path(\"../input/train.csv\")"
   ]
  },
  {
   "cell_type": "code",
   "execution_count": 5,
   "metadata": {},
   "outputs": [],
   "source": [
    "# does not work\n",
    "# input = pd.read_csv(path_sample, header=0, index_col=0) "
   ]
  },
  {
   "cell_type": "code",
   "execution_count": 35,
   "metadata": {},
   "outputs": [],
   "source": [
    "file_list = []\n",
    "with open(input_path) as f:\n",
    "    for line in f:\n",
    "        linestr_list = line.rstrip('\\n').split(\"\\t\")\n",
    "        linenum_list = list(map(int, linestr_list))\n",
    "        file_list.append(linenum_list)\n",
    "        "
   ]
  },
  {
   "cell_type": "code",
   "execution_count": 32,
   "metadata": {},
   "outputs": [
    {
     "data": {
      "text/plain": [
       "[2, 3, 4, 5]"
      ]
     },
     "execution_count": 32,
     "metadata": {},
     "output_type": "execute_result"
    }
   ],
   "source": []
  },
  {
   "cell_type": "code",
   "execution_count": null,
   "metadata": {},
   "outputs": [],
   "source": [
    "# out of memory\n",
    "training_df = pd.DataFrame([line.strip().split('\\t') for line in open(input_path, 'r')])"
   ]
  },
  {
   "cell_type": "code",
   "execution_count": null,
   "metadata": {},
   "outputs": [],
   "source": [
    "with open(input_path, 'r') as input_file, open(output_path, 'a') as output_file:\n",
    "    input_file.readline()"
   ]
  }
 ],
 "metadata": {
  "kernelspec": {
   "display_name": "comp90051-env",
   "language": "python",
   "name": "comp90051-env"
  },
  "language_info": {
   "codemirror_mode": {
    "name": "ipython",
    "version": 3
   },
   "file_extension": ".py",
   "mimetype": "text/x-python",
   "name": "python",
   "nbconvert_exporter": "python",
   "pygments_lexer": "ipython3",
   "version": "3.8.5"
  }
 },
 "nbformat": 4,
 "nbformat_minor": 4
}
